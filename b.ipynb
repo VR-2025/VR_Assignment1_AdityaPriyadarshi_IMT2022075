{
 "cells": [
  {
   "cell_type": "code",
   "execution_count": 69,
   "metadata": {},
   "outputs": [],
   "source": [
    "import numpy as np\n",
    "import imutils\n",
    "import cv2"
   ]
  },
  {
   "cell_type": "code",
   "execution_count": 70,
   "metadata": {},
   "outputs": [],
   "source": [
    "def detectAndDescribe(image):\n",
    "    descriptor=cv2.SIFT_create()\n",
    "    kps,features=descriptor.detectAndCompute(image,None)\n",
    "    kps=np.float32([kp.pt for kp in kps])\n",
    "    return (kps,features)"
   ]
  },
  {
   "cell_type": "code",
   "execution_count": 71,
   "metadata": {},
   "outputs": [],
   "source": [
    "def matchInterestPoints(interestA,interestB,xA,xB,ratio,re_proj):\n",
    "    matcher=cv2.BFMatcher()\n",
    "    rawMatches=matcher.knnMatch(xA,xB,2)\n",
    "    matches=[]\n",
    "    for m in rawMatches:\n",
    "        if len(m) == 2 and m[0].distance<m[1].distance*ratio:\n",
    "            matches.append((m[0].trainIdx,m[0].queryIdx))\n",
    "    if len(matches)>4:\n",
    "        ptsA=np.float32([interestA[i] for (_,i) in matches])\n",
    "        ptsB=np.float32([interestB[i] for (i,_) in matches])\n",
    "        H,status=cv2.findHomography(ptsA,ptsB,cv2.RANSAC,re_proj)\n",
    "        return (matches,H,status)\n",
    "    return None"
   ]
  },
  {
   "cell_type": "code",
   "execution_count": 72,
   "metadata": {},
   "outputs": [],
   "source": [
    "def drawMatches(imageA,imageB,interestA,interestB,matches,status):\n",
    "    hA,wA=imageA.shape[:2]\n",
    "    hB,wB=imageB.shape[:2]\n",
    "    viz=np.zeros((max(hA,hB),wA+wB,3),dtype=\"uint8\")\n",
    "    viz[0:hA,0:wA]=imageA\n",
    "    viz[0:hB,wA:]=imageB\n",
    "    for((trainIdx,queryIdx),s) in zip(matches,status):\n",
    "        if s == 1:\n",
    "            ptA=(int(interestA[queryIdx][0]),int(interestA[queryIdx][1]))\n",
    "            ptB=(int(interestB[trainIdx][0])+wA,int(interestB[trainIdx][1]))\n",
    "            cv2.line(viz,ptA,ptB,(0,255,0),1)\n",
    "    return viz"
   ]
  },
  {
   "cell_type": "code",
   "execution_count": 73,
   "metadata": {},
   "outputs": [],
   "source": [
    "def stitch(images,ratio=0.75,re_proj=5.0,show_overlay=False):\n",
    "    imageB,imageA=images\n",
    "    interestA,xA=detectAndDescribe(imageA)\n",
    "    interestB,xB=detectAndDescribe(imageB)\n",
    "    M=matchInterestPoints(interestA,interestB,xA,xB,ratio,re_proj)\n",
    "    if M is None:\n",
    "        print(\"Not enough matches found.\")\n",
    "        return None\n",
    "    matches,H,status=M\n",
    "    pano_img=cv2.warpPerspective(imageA,H,(imageA.shape[1]+imageB.shape[1],imageA.shape[0]))\n",
    "    pano_img[0:imageB.shape[0],0:imageB.shape[1]]=imageB\n",
    "    if show_overlay:\n",
    "        visualization=drawMatches(imageA,imageB,interestA,interestB,matches,status)\n",
    "        return (pano_img,visualization)\n",
    "    return pano_img"
   ]
  },
  {
   "cell_type": "code",
   "execution_count": 74,
   "metadata": {},
   "outputs": [],
   "source": [
    "imageA=cv2.imread(\"left2.jpg\")\n",
    "imageB=cv2.imread(\"right2.jpg\")\n",
    "imageA=imutils.resize(imageA,width=600)\n",
    "imageB=imutils.resize(imageB,width=600)"
   ]
  },
  {
   "cell_type": "code",
   "execution_count": 75,
   "metadata": {},
   "outputs": [],
   "source": [
    "def show(img,time=3,msg=\"Image\"):\n",
    "    cv2.imshow(msg,img)\n",
    "    cv2.waitKey(int(time*1000))\n",
    "    cv2.destroyAllWindows()"
   ]
  },
  {
   "cell_type": "code",
   "execution_count": 76,
   "metadata": {},
   "outputs": [
    {
     "data": {
      "text/plain": [
       "True"
      ]
     },
     "execution_count": 76,
     "metadata": {},
     "output_type": "execute_result"
    }
   ],
   "source": [
    "pano_img,viz=stitch([imageA,imageB],show_overlay=True)\n",
    "# show(imageA,3,\"Image A\")\n",
    "# show(imageB,3,\"Image B\")\n",
    "show(viz,15,\"Matched Interest Points\")\n",
    "cv2.imwrite(\"InterestPoints2.jpg\",viz)\n",
    "show(pano_img,3,\"Stitched Image\")\n",
    "cv2.imwrite(\"stitched2.jpg\",pano_img)"
   ]
  },
  {
   "cell_type": "code",
   "execution_count": null,
   "metadata": {},
   "outputs": [],
   "source": []
  },
  {
   "cell_type": "code",
   "execution_count": null,
   "metadata": {},
   "outputs": [],
   "source": []
  }
 ],
 "metadata": {
  "kernelspec": {
   "display_name": "ap",
   "language": "python",
   "name": "python3"
  },
  "language_info": {
   "codemirror_mode": {
    "name": "ipython",
    "version": 3
   },
   "file_extension": ".py",
   "mimetype": "text/x-python",
   "name": "python",
   "nbconvert_exporter": "python",
   "pygments_lexer": "ipython3",
   "version": "3.10.16"
  }
 },
 "nbformat": 4,
 "nbformat_minor": 2
}
