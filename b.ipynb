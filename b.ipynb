{
 "cells": [
  {
   "cell_type": "code",
   "execution_count": 1,
   "metadata": {},
   "outputs": [],
   "source": [
    "import cv2"
   ]
  },
  {
   "cell_type": "code",
   "execution_count": 11,
   "metadata": {},
   "outputs": [
    {
     "name": "stdout",
     "output_type": "stream",
     "text": [
      "Total Coins Detected: 3\n"
     ]
    }
   ],
   "source": [
    "\n",
    "\n",
    "import cv2\n",
    "import numpy as np\n",
    "\n",
    "# Load and preprocess the image\n",
    "image = cv2.imread(\"coins2.jpg\")\n",
    "gray = cv2.cvtColor(image, cv2.COLOR_BGR2GRAY)\n",
    "\n",
    "scale_factor = 700 / max(image.shape[:2])  # Scale based on the longest dimension\n",
    "# if scale_factor < 1:  # Only resize if the image is large\n",
    "image = cv2.resize(image, (0, 0), fx=scale_factor, fy=scale_factor)\n",
    "gray = cv2.resize(gray, (0, 0), fx=scale_factor, fy=scale_factor)\n",
    "\n",
    "# Apply Gaussian Blur\n",
    "blurred = cv2.GaussianBlur(gray, (5, 5), 0)\n",
    "\n",
    "# Use Adaptive Thresholding instead of Canny\n",
    "thresh = cv2.adaptiveThreshold(blurred, 255, cv2.ADAPTIVE_THRESH_GAUSSIAN_C, \n",
    "                               cv2.THRESH_BINARY_INV, 11, 2)\n",
    "\n",
    "# Find contours\n",
    "contours, _ = cv2.findContours(thresh, cv2.RETR_EXTERNAL, cv2.CHAIN_APPROX_SIMPLE)\n",
    "\n",
    "# Filter contours based on circularity and area\n",
    "coin_contours = []\n",
    "for cnt in contours:\n",
    "    perimeter = cv2.arcLength(cnt, True)\n",
    "    area = cv2.contourArea(cnt)\n",
    "\n",
    "    if perimeter == 0:  # Avoid division by zero\n",
    "        continue\n",
    "\n",
    "    # Calculate circularity\n",
    "    circularity = 4 * np.pi * (area / (perimeter ** 2))\n",
    "\n",
    "    # Coins should be fairly circular (circularity close to 1) and have a reasonable area\n",
    "    if 0.7 < circularity < 1.2 and area > 500 * (scale_factor ** 2):  \n",
    "        coin_contours.append(cnt)\n",
    "\n",
    "# Draw detected coins\n",
    "cv2.drawContours(image, coin_contours, -1, (0, 255, 0), 2)\n",
    "\n",
    "# Show results\n",
    "print(f\"Total Coins Detected: {len(coin_contours)}\")\n",
    "cv2.imshow(\"Detected Coins\", image)\n",
    "cv2.waitKey(0)\n",
    "cv2.destroyAllWindows()\n"
   ]
  },
  {
   "cell_type": "code",
   "execution_count": 10,
   "metadata": {},
   "outputs": [],
   "source": [
    "def show(img,time=2.5):\n",
    "    cv2.imshow(\"Detected Coins\", img)\n",
    "    cv2.waitKey(time*1000)\n",
    "    cv2.destroyAllWindows()"
   ]
  },
  {
   "cell_type": "code",
   "execution_count": null,
   "metadata": {},
   "outputs": [],
   "source": [
    "def process(path):\n",
    "    image = cv2.imread(path)\n",
    "    gray = cv2.cvtColor(image, cv2.COLOR_BGR2GRAY)\n",
    "    scale_factor = 700 / max(image.shape[:2])\n",
    "    image = cv2.resize(image, (0, 0), fx=scale_factor, fy=scale_factor)\n",
    "    gray = cv2.resize(gray, (0, 0), fx=scale_factor, fy=scale_factor)\n",
    "    blurred = cv2.GaussianBlur(gray, (5, 5), 0)\n",
    "    thresh = cv2.adaptiveThreshold(blurred, 255, cv2.ADAPTIVE_THRESH_GAUSSIAN_C,cv2.THRESH_BINARY_INV, 11, 2)\n",
    "    contours, _ = cv2.findContours(thresh, cv2.RETR_EXTERNAL, cv2.CHAIN_APPROX_SIMPLE)\n",
    "    coin_contours = []\n",
    "    for cnt in contours:\n",
    "        perimeter = cv2.arcLength(cnt, True)\n",
    "        area = cv2.contourArea(cnt)\n",
    "        if perimeter:\n",
    "            circularity = 4 * np.pi * (area / (perimeter ** 2))\n",
    "            if 0.7 < circularity < 1.2 and area > 500 * (scale_factor ** 2):  \n",
    "                coin_contours.append(cnt)\n",
    "    cv2.drawContours(image, coin_contours, -1, (0, 255, 0), 2)\n",
    "    show(image)\n",
    "    print(len(coin_contours))\n"
   ]
  },
  {
   "cell_type": "code",
   "execution_count": null,
   "metadata": {},
   "outputs": [],
   "source": [
    "\n",
    "proce"
   ]
  }
 ],
 "metadata": {
  "kernelspec": {
   "display_name": "ap",
   "language": "python",
   "name": "python3"
  },
  "language_info": {
   "codemirror_mode": {
    "name": "ipython",
    "version": 3
   },
   "file_extension": ".py",
   "mimetype": "text/x-python",
   "name": "python",
   "nbconvert_exporter": "python",
   "pygments_lexer": "ipython3",
   "version": "3.10.16"
  }
 },
 "nbformat": 4,
 "nbformat_minor": 2
}
