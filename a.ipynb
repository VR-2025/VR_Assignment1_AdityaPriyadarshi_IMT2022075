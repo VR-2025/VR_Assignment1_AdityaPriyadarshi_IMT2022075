{
 "cells": [
  {
   "cell_type": "code",
   "execution_count": 14,
   "metadata": {},
   "outputs": [],
   "source": [
    "import cv2\n",
    "import numpy as np\n",
    "import os"
   ]
  },
  {
   "cell_type": "code",
   "execution_count": 15,
   "metadata": {},
   "outputs": [],
   "source": [
    "def pre_process(path):\n",
    "    image=cv2.imread(path)\n",
    "    gray=cv2.cvtColor(image,cv2.COLOR_BGR2GRAY)\n",
    "    scale_factor=700/max(image.shape[:2])\n",
    "    image=cv2.resize(image,(0,0),fx=scale_factor,fy=scale_factor)\n",
    "    gray=cv2.resize(gray,(0,0),fx=scale_factor,fy=scale_factor)\n",
    "    blurred=cv2.GaussianBlur(gray,(5,5),0)\n",
    "    thresh=cv2.adaptiveThreshold(blurred,255,cv2.ADAPTIVE_THRESH_GAUSSIAN_C,cv2.THRESH_BINARY_INV,11,2)\n",
    "    return (image,thresh,scale_factor)\n",
    "    \n",
    "def show(img,time=3,msg=\"Image\"):\n",
    "    cv2.imshow(msg,img)\n",
    "    cv2.waitKey(int(time*1000))\n",
    "    cv2.destroyAllWindows()\n",
    "\n",
    "def edge(image,thresh,scale_factor):\n",
    "    contours,_=cv2.findContours(thresh,cv2.RETR_EXTERNAL,cv2.CHAIN_APPROX_SIMPLE)\n",
    "    coin_contours=[]\n",
    "    for cnt in contours:\n",
    "        perimeter=cv2.arcLength(cnt,True)\n",
    "        area=cv2.contourArea(cnt)\n",
    "        if perimeter:\n",
    "            circularity=4*np.pi*(area/(perimeter**2))\n",
    "            if 0.7 < circularity < 1.2 and area > 500*(scale_factor**2):  \n",
    "                coin_contours.append(cnt)\n",
    "    cv2.drawContours(image,coin_contours,-1,(0,255,0),2)\n",
    "    show(image,3,\"Edges of coins\")\n",
    "    return coin_contours\n",
    "\n",
    "    \n",
    "def contour_segmentation(image,coin_contours):\n",
    "    segmented_coins=[]\n",
    "    for cnt in coin_contours:\n",
    "        (x,y),radius=cv2.minEnclosingCircle(cnt)\n",
    "        center=(int(x),int(y))\n",
    "        radius=int(radius)\n",
    "        mask=np.zeros_like(image,dtype=np.uint8)\n",
    "        cv2.circle(mask,center,radius,(255,255,255),-1)\n",
    "        coin_segment=cv2.bitwise_and(image,mask)\n",
    "        x1,y1,x2,y2=center[0] - radius,center[1] - radius,center[0] + radius,center[1] + radius\n",
    "        coin_segment=coin_segment[y1:y2,x1:x2]\n",
    "        segmented_coins.append(coin_segment)\n",
    "    for i,coin in enumerate(segmented_coins):\n",
    "        show(coin,2,f'{i+1}th segmented coin')\n",
    "    return segmented_coins\n",
    "\n",
    "    \n",
    "def count_coin(coin_contours,segmented_coins):\n",
    "    return (len(coin_contours),len(segmented_coins))"
   ]
  },
  {
   "cell_type": "code",
   "execution_count": 16,
   "metadata": {},
   "outputs": [],
   "source": [
    "def main(path):\n",
    "    image,thresh,scale_factor=pre_process(path)\n",
    "    coin_contours=edge(image,thresh,scale_factor)\n",
    "    segmented_coins=contour_segmentation(image,coin_contours)\n",
    "    print(count_coin(coin_contours,segmented_coins))"
   ]
  },
  {
   "cell_type": "code",
   "execution_count": 17,
   "metadata": {},
   "outputs": [],
   "source": [
    "for coin in os.listdir(\"coins/\"):\n",
    "    main(os.path.join(\"coins/\",coin))"
   ]
  },
  {
   "cell_type": "code",
   "execution_count": null,
   "metadata": {},
   "outputs": [],
   "source": []
  }
 ],
 "metadata": {
  "kernelspec": {
   "display_name": "ap",
   "language": "python",
   "name": "python3"
  },
  "language_info": {
   "codemirror_mode": {
    "name": "ipython",
    "version": 3
   },
   "file_extension": ".py",
   "mimetype": "text/x-python",
   "name": "python",
   "nbconvert_exporter": "python",
   "pygments_lexer": "ipython3",
   "version": "3.10.16"
  }
 },
 "nbformat": 4,
 "nbformat_minor": 2
}
